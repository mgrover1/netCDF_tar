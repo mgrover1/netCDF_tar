{
 "cells": [
  {
   "cell_type": "code",
   "execution_count": 1,
   "id": "5af26f5f",
   "metadata": {},
   "outputs": [
    {
     "name": "stdout",
     "output_type": "stream",
     "text": [
      "\n",
      "## You are using the Python ARM Radar Toolkit (Py-ART), an open source\n",
      "## library for working with weather radar data. Py-ART is partly\n",
      "## supported by the U.S. Department of Energy as part of the Atmospheric\n",
      "## Radiation Measurement (ARM) Climate Research Facility, an Office of\n",
      "## Science user facility.\n",
      "##\n",
      "## If you use this software to prepare a publication, please cite:\n",
      "##\n",
      "##     JJ Helmus and SM Collis, JORS 2016, doi: 10.5334/jors.119\n",
      "\n"
     ]
    },
    {
     "name": "stderr",
     "output_type": "stream",
     "text": [
      "C:\\Users\\zerod\\anaconda3\\lib\\site-packages\\scipy\\io\\matlab\\__init__.py:52: DeprecationWarning: Please use `OPAQUE_DTYPE` from the `scipy.io.matlab` namespace, the `scipy.io.matlab.mio5_params` namespace is deprecated.\n",
      "  from .import (mio, mio5, mio5_params, mio4, byteordercodes,\n",
      "<frozen importlib._bootstrap>:228: RuntimeWarning: scipy._lib.messagestream.MessageStream size changed, may indicate binary incompatibility. Expected 56 from C header, got 64 from PyObject\n",
      "C:\\Users\\zerod\\anaconda3\\lib\\site-packages\\scipy\\sparse\\linalg\\isolve\\iterative.py:10: DeprecationWarning: Please use `LinearOperator` from the `scipy.sparse.linalg` namespace, the `scipy.sparse.linalg.interface` namespace is deprecated.\n",
      "  from scipy.sparse.linalg.interface import LinearOperator\n",
      "C:\\Users\\zerod\\anaconda3\\lib\\site-packages\\scipy\\sparse\\linalg\\isolve\\utils.py:7: DeprecationWarning: Please use `asmatrix` from the `scipy.sparse` namespace, the `scipy.sparse.sputils` namespace is deprecated.\n",
      "  from scipy.sparse.sputils import asmatrix\n",
      "C:\\Users\\zerod\\anaconda3\\lib\\site-packages\\scipy\\sparse\\linalg\\isolve\\utils.py:9: DeprecationWarning: Please use `aslinearoperator` from the `scipy.sparse.linalg` namespace, the `scipy.sparse.linalg.interface` namespace is deprecated.\n",
      "  from scipy.sparse.linalg.interface import aslinearoperator, LinearOperator, \\\n",
      "C:\\Users\\zerod\\anaconda3\\lib\\site-packages\\scipy\\sparse\\linalg\\isolve\\utils.py:9: DeprecationWarning: Please use `LinearOperator` from the `scipy.sparse.linalg` namespace, the `scipy.sparse.linalg.interface` namespace is deprecated.\n",
      "  from scipy.sparse.linalg.interface import aslinearoperator, LinearOperator, \\\n",
      "C:\\Users\\zerod\\anaconda3\\lib\\site-packages\\scipy\\sparse\\linalg\\isolve\\utils.py:9: DeprecationWarning: Please use `IdentityOperator` from the `scipy.sparse.linalg` namespace, the `scipy.sparse.linalg.interface` namespace is deprecated.\n",
      "  from scipy.sparse.linalg.interface import aslinearoperator, LinearOperator, \\\n",
      "C:\\Users\\zerod\\anaconda3\\lib\\site-packages\\scipy\\sparse\\linalg\\isolve\\lsqr.py:56: DeprecationWarning: Please use `aslinearoperator` from the `scipy.sparse.linalg` namespace, the `scipy.sparse.linalg.interface` namespace is deprecated.\n",
      "  from scipy.sparse.linalg.interface import aslinearoperator\n",
      "C:\\Users\\zerod\\anaconda3\\lib\\site-packages\\scipy\\sparse\\linalg\\isolve\\lsmr.py:24: DeprecationWarning: Please use `aslinearoperator` from the `scipy.sparse.linalg` namespace, the `scipy.sparse.linalg.interface` namespace is deprecated.\n",
      "  from scipy.sparse.linalg.interface import aslinearoperator\n",
      "C:\\Users\\zerod\\anaconda3\\lib\\site-packages\\scipy\\sparse\\linalg\\dsolve\\linsolve.py:7: DeprecationWarning: Please use `is_pydata_spmatrix` from the `scipy.sparse` namespace, the `scipy.sparse.sputils` namespace is deprecated.\n",
      "  from scipy.sparse.sputils import is_pydata_spmatrix\n",
      "C:\\Users\\zerod\\anaconda3\\lib\\site-packages\\scipy\\sparse\\linalg\\eigen\\arpack\\arpack.py:47: DeprecationWarning: Please use `aslinearoperator` from the `scipy.sparse.linalg` namespace, the `scipy.sparse.linalg.interface` namespace is deprecated.\n",
      "  from scipy.sparse.linalg.interface import aslinearoperator, LinearOperator\n",
      "C:\\Users\\zerod\\anaconda3\\lib\\site-packages\\scipy\\sparse\\linalg\\eigen\\arpack\\arpack.py:47: DeprecationWarning: Please use `LinearOperator` from the `scipy.sparse.linalg` namespace, the `scipy.sparse.linalg.interface` namespace is deprecated.\n",
      "  from scipy.sparse.linalg.interface import aslinearoperator, LinearOperator\n",
      "C:\\Users\\zerod\\anaconda3\\lib\\site-packages\\scipy\\sparse\\linalg\\eigen\\arpack\\arpack.py:50: DeprecationWarning: Please use `isdense` from the `scipy.sparse` namespace, the `scipy.sparse.sputils` namespace is deprecated.\n",
      "  from scipy.sparse.sputils import isdense, is_pydata_spmatrix\n",
      "C:\\Users\\zerod\\anaconda3\\lib\\site-packages\\scipy\\sparse\\linalg\\eigen\\arpack\\arpack.py:50: DeprecationWarning: Please use `is_pydata_spmatrix` from the `scipy.sparse` namespace, the `scipy.sparse.sputils` namespace is deprecated.\n",
      "  from scipy.sparse.sputils import isdense, is_pydata_spmatrix\n"
     ]
    }
   ],
   "source": [
    "# imports\n",
    "import os\n",
    "import pyart\n",
    "import tarfile\n",
    "import shutil\n",
    "import netCDF4\n",
    "import numpy as np\n"
   ]
  },
  {
   "cell_type": "code",
   "execution_count": 2,
   "id": "0abc3afd",
   "metadata": {},
   "outputs": [],
   "source": [
    "# Path to radar data on local machine.\n",
    "radar_path = r'Z:/Matt/work/X_Band/'\n",
    "rdr_files = os.listdir(radar_path)\n",
    "\n",
    "# this is the specific tar file I'm working with currently\n",
    "file = 'gucxprecipradarS2.00.20220314.025559.raw.nc.tar'\n",
    "# join file name and path\n",
    "filename = os.path.join(radar_path, file)\n"
   ]
  },
  {
   "cell_type": "code",
   "execution_count": 9,
   "id": "4c18378c",
   "metadata": {},
   "outputs": [
    {
     "name": "stdout",
     "output_type": "stream",
     "text": [
      "this works\n"
     ]
    },
    {
     "ename": "OSError",
     "evalue": "[Errno 22] Invalid argument: b\"<ExFileObject name='Z:/Matt/work/X_Band/gucxprecipradarS2.00.20220314.025559.raw.nc.tar'>\"",
     "output_type": "error",
     "traceback": [
      "\u001b[1;31m---------------------------------------------------------------------------\u001b[0m",
      "\u001b[1;31mOSError\u001b[0m                                   Traceback (most recent call last)",
      "Input \u001b[1;32mIn [9]\u001b[0m, in \u001b[0;36m<cell line: 2>\u001b[1;34m()\u001b[0m\n\u001b[0;32m      9\u001b[0m \u001b[38;5;28mprint\u001b[39m (\u001b[38;5;124m'\u001b[39m\u001b[38;5;124mthis works\u001b[39m\u001b[38;5;124m'\u001b[39m)\n\u001b[0;32m     11\u001b[0m f\u001b[38;5;241m=\u001b[39mtarobj\u001b[38;5;241m.\u001b[39mextractfile(members)\n\u001b[1;32m---> 12\u001b[0m nc \u001b[38;5;241m=\u001b[39m \u001b[43mnetCDF4\u001b[49m\u001b[38;5;241;43m.\u001b[39;49m\u001b[43mDataset\u001b[49m\u001b[43m(\u001b[49m\u001b[43mf\u001b[49m\u001b[43m)\u001b[49m\n",
      "File \u001b[1;32msrc\\netCDF4\\_netCDF4.pyx:2307\u001b[0m, in \u001b[0;36mnetCDF4._netCDF4.Dataset.__init__\u001b[1;34m()\u001b[0m\n",
      "File \u001b[1;32msrc\\netCDF4\\_netCDF4.pyx:1925\u001b[0m, in \u001b[0;36mnetCDF4._netCDF4._ensure_nc_success\u001b[1;34m()\u001b[0m\n",
      "\u001b[1;31mOSError\u001b[0m: [Errno 22] Invalid argument: b\"<ExFileObject name='Z:/Matt/work/X_Band/gucxprecipradarS2.00.20220314.025559.raw.nc.tar'>\""
     ]
    }
   ],
   "source": [
    "# this opens the tar file and extracts the exact member I'd like to use. \n",
    "with tarfile.open(filename, 'r') as tarobj:\n",
    "    for member in tarobj.getmembers():\n",
    "        # this is searching for the end of the member we want\n",
    "        if '47930_22_1_PPI.nc' in str(member):\n",
    "            # extracting that member\n",
    "            members=member\n",
    "            # this is just making sure it gets into the if statement\n",
    "            print ('this works')\n",
    "            \n",
    "            f=tarobj.extractfile(members)\n",
    "            nc = netCDF4.Dataset(f)"
   ]
  },
  {
   "cell_type": "code",
   "execution_count": 4,
   "id": "dcf956aa",
   "metadata": {},
   "outputs": [
    {
     "data": {
      "text/plain": [
       "<ExFileObject name='Z:/Matt/work/X_Band/gucxprecipradarS2.00.20220314.025559.raw.nc.tar'>"
      ]
     },
     "execution_count": 4,
     "metadata": {},
     "output_type": "execute_result"
    }
   ],
   "source": [
    "f"
   ]
  },
  {
   "cell_type": "code",
   "execution_count": 5,
   "id": "5194dd30",
   "metadata": {},
   "outputs": [
    {
     "data": {
      "text/plain": [
       "<TarInfo 'gucxprecipradarS2.00.20220314.033600.raw.csu.sail-20220314-033600_47930_22_1_PPI.nc' at 0x29a40b4dac0>"
      ]
     },
     "execution_count": 5,
     "metadata": {},
     "output_type": "execute_result"
    }
   ],
   "source": [
    "members"
   ]
  },
  {
   "cell_type": "markdown",
   "id": "6fe1ec08",
   "metadata": {},
   "source": [
    "f should be printing out what members has but it calls back to the main tar file. I also can't get it to be read as a netCDF. "
   ]
  },
  {
   "cell_type": "markdown",
   "id": "eba834a8",
   "metadata": {},
   "source": [
    "If I try to break it up into a different method:"
   ]
  },
  {
   "cell_type": "code",
   "execution_count": 8,
   "id": "6ad50708",
   "metadata": {},
   "outputs": [
    {
     "ename": "AttributeError",
     "evalue": "'list' object has no attribute 'isreg'",
     "output_type": "error",
     "traceback": [
      "\u001b[1;31m---------------------------------------------------------------------------\u001b[0m",
      "\u001b[1;31mAttributeError\u001b[0m                            Traceback (most recent call last)",
      "Input \u001b[1;32mIn [8]\u001b[0m, in \u001b[0;36m<cell line: 2>\u001b[1;34m()\u001b[0m\n\u001b[0;32m      9\u001b[0m member\u001b[38;5;241m=\u001b[39m[m \u001b[38;5;28;01mfor\u001b[39;00m m \u001b[38;5;129;01min\u001b[39;00m tarobj\u001b[38;5;241m.\u001b[39mgetmembers() \n\u001b[0;32m     10\u001b[0m         \u001b[38;5;28;01mif\u001b[39;00m \u001b[38;5;124m'\u001b[39m\u001b[38;5;124m47930_22_1_PPI.nc\u001b[39m\u001b[38;5;124m'\u001b[39m \u001b[38;5;129;01min\u001b[39;00m m\u001b[38;5;241m.\u001b[39mname]\n\u001b[0;32m     12\u001b[0m \u001b[38;5;66;03m# This is where the error occurs. If I run this, it generates the error in the title.\u001b[39;00m\n\u001b[1;32m---> 13\u001b[0m nc \u001b[38;5;241m=\u001b[39m netCDF4\u001b[38;5;241m.\u001b[39mDataset(\u001b[43mtarobj\u001b[49m\u001b[38;5;241;43m.\u001b[39;49m\u001b[43mextractfile\u001b[49m\u001b[43m(\u001b[49m\u001b[43mmember\u001b[49m\u001b[43m)\u001b[49m)\n",
      "File \u001b[1;32m~\\anaconda3\\lib\\tarfile.py:2117\u001b[0m, in \u001b[0;36mTarFile.extractfile\u001b[1;34m(self, member)\u001b[0m\n\u001b[0;32m   2114\u001b[0m \u001b[38;5;28;01melse\u001b[39;00m:\n\u001b[0;32m   2115\u001b[0m     tarinfo \u001b[38;5;241m=\u001b[39m member\n\u001b[1;32m-> 2117\u001b[0m \u001b[38;5;28;01mif\u001b[39;00m \u001b[43mtarinfo\u001b[49m\u001b[38;5;241;43m.\u001b[39;49m\u001b[43misreg\u001b[49m() \u001b[38;5;129;01mor\u001b[39;00m tarinfo\u001b[38;5;241m.\u001b[39mtype \u001b[38;5;129;01mnot\u001b[39;00m \u001b[38;5;129;01min\u001b[39;00m SUPPORTED_TYPES:\n\u001b[0;32m   2118\u001b[0m     \u001b[38;5;66;03m# Members with unknown types are treated as regular files.\u001b[39;00m\n\u001b[0;32m   2119\u001b[0m     \u001b[38;5;28;01mreturn\u001b[39;00m \u001b[38;5;28mself\u001b[39m\u001b[38;5;241m.\u001b[39mfileobject(\u001b[38;5;28mself\u001b[39m, tarinfo)\n\u001b[0;32m   2121\u001b[0m \u001b[38;5;28;01melif\u001b[39;00m tarinfo\u001b[38;5;241m.\u001b[39mislnk() \u001b[38;5;129;01mor\u001b[39;00m tarinfo\u001b[38;5;241m.\u001b[39missym():\n",
      "\u001b[1;31mAttributeError\u001b[0m: 'list' object has no attribute 'isreg'"
     ]
    }
   ],
   "source": [
    "#if I wanted to call multiple files\n",
    "for i in (range(len(rdr_files))):\n",
    "    files = str(rdr_files[i])\n",
    "    if file in str(files):\n",
    "        filename = files\n",
    "        filename = os.path.join(radar_path, filename)\n",
    "        tarobj = tarfile.open(filename, 'r')\n",
    "\n",
    "        member=[m for m in tarobj.getmembers() \n",
    "                if '47930_22_1_PPI.nc' in m.name]\n",
    "\n",
    "        # This is where the error occurs. If I run this, it generates the error in the title.\n",
    "        nc = netCDF4.Dataset(tarobj.extractfile(member))"
   ]
  },
  {
   "cell_type": "code",
   "execution_count": null,
   "id": "0c1107bf",
   "metadata": {},
   "outputs": [],
   "source": [
    "nc"
   ]
  },
  {
   "cell_type": "code",
   "execution_count": null,
   "id": "2c8355ae",
   "metadata": {},
   "outputs": [],
   "source": []
  }
 ],
 "metadata": {
  "kernelspec": {
   "display_name": "Python 3 (ipykernel)",
   "language": "python",
   "name": "python3"
  },
  "language_info": {
   "codemirror_mode": {
    "name": "ipython",
    "version": 3
   },
   "file_extension": ".py",
   "mimetype": "text/x-python",
   "name": "python",
   "nbconvert_exporter": "python",
   "pygments_lexer": "ipython3",
   "version": "3.9.12"
  }
 },
 "nbformat": 4,
 "nbformat_minor": 5
}
